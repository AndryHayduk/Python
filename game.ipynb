{
 "cells": [
  {
   "cell_type": "code",
   "execution_count": 1,
   "id": "fresh-arthritis",
   "metadata": {},
   "outputs": [],
   "source": [
    "import random\n",
    "import socket\n",
    "import threading\n",
    "import os"
   ]
  },
  {
   "cell_type": "code",
   "execution_count": 153,
   "id": "spoken-greenhouse",
   "metadata": {},
   "outputs": [],
   "source": [
    "def game():\n",
    "    number = random.randint(0, 1000) # Беремо случайное число від 0 до 1000\n",
    "    tries = 1  # рахунок спроб\n",
    "    done = False  # Флаг закінчення гри \n",
    "    while not done:  # Поки гра не закінчена , просимо вести нове число\n",
    "            guess = input ('Ведіть число: ')\n",
    "            if guess.isdigit():\n",
    "                # Конвертуємо його в ціле\n",
    "                    guess = int(guess) \n",
    "                 # Перевіряємо, чи співпало з случайним; якщо так опускаємо флаг, і пишимо повідомлення про перемогу\n",
    "            if guess == number:\n",
    "                    done = True\n",
    "                    print(f'Ти виграв ! Я загадав {guess}. Ти використав {tries} спроб.')\n",
    "            else:   \n",
    "                tries += 1\n",
    "                if guess > number:\n",
    "                    print('Загаданное число меньше!')\n",
    "                if guess < number:\n",
    "                    print('Загаданное число больше!')\n",
    "                else: \n",
    "                    print('Это не число от 0 до 1000!')"
   ]
  },
  {
   "cell_type": "code",
   "execution_count": 154,
   "id": "ahead-reason",
   "metadata": {},
   "outputs": [
    {
     "data": {
      "text/plain": [
       "<function __main__.game()>"
      ]
     },
     "execution_count": 154,
     "metadata": {},
     "output_type": "execute_result"
    }
   ],
   "source": [
    "game"
   ]
  },
  {
   "cell_type": "code",
   "execution_count": 156,
   "id": "rental-barbados",
   "metadata": {},
   "outputs": [
    {
     "name": "stdin",
     "output_type": "stream",
     "text": [
      "Ведіть число:  6\n"
     ]
    },
    {
     "name": "stdout",
     "output_type": "stream",
     "text": [
      "Загаданное число больше!\n"
     ]
    },
    {
     "name": "stdin",
     "output_type": "stream",
     "text": [
      "Ведіть число:  10\n"
     ]
    },
    {
     "name": "stdout",
     "output_type": "stream",
     "text": [
      "Загаданное число больше!\n"
     ]
    },
    {
     "name": "stdin",
     "output_type": "stream",
     "text": [
      "Ведіть число:  100\n"
     ]
    },
    {
     "name": "stdout",
     "output_type": "stream",
     "text": [
      "Загаданное число меньше!\n",
      "Это не число от 0 до 1000!\n"
     ]
    },
    {
     "name": "stdin",
     "output_type": "stream",
     "text": [
      "Ведіть число:  50\n"
     ]
    },
    {
     "name": "stdout",
     "output_type": "stream",
     "text": [
      "Загаданное число больше!\n"
     ]
    },
    {
     "name": "stdin",
     "output_type": "stream",
     "text": [
      "Ведіть число:  60\n"
     ]
    },
    {
     "name": "stdout",
     "output_type": "stream",
     "text": [
      "Загаданное число больше!\n"
     ]
    },
    {
     "name": "stdin",
     "output_type": "stream",
     "text": [
      "Ведіть число:  70\n"
     ]
    },
    {
     "name": "stdout",
     "output_type": "stream",
     "text": [
      "Загаданное число больше!\n"
     ]
    },
    {
     "name": "stdin",
     "output_type": "stream",
     "text": [
      "Ведіть число:  80\n"
     ]
    },
    {
     "name": "stdout",
     "output_type": "stream",
     "text": [
      "Загаданное число больше!\n"
     ]
    },
    {
     "name": "stdin",
     "output_type": "stream",
     "text": [
      "Ведіть число:  90\n"
     ]
    },
    {
     "name": "stdout",
     "output_type": "stream",
     "text": [
      "Загаданное число меньше!\n",
      "Это не число от 0 до 1000!\n"
     ]
    },
    {
     "name": "stdin",
     "output_type": "stream",
     "text": [
      "Ведіть число:  85\n"
     ]
    },
    {
     "name": "stdout",
     "output_type": "stream",
     "text": [
      "Ти виграв ! Я загадав 85. Ти використав 9 спроб.\n"
     ]
    }
   ],
   "source": [
    "game()"
   ]
  },
  {
   "cell_type": "code",
   "execution_count": null,
   "id": "executive-noise",
   "metadata": {},
   "outputs": [],
   "source": []
  }
 ],
 "metadata": {
  "kernelspec": {
   "display_name": "Python 3",
   "language": "python",
   "name": "python3"
  },
  "language_info": {
   "codemirror_mode": {
    "name": "ipython",
    "version": 3
   },
   "file_extension": ".py",
   "mimetype": "text/x-python",
   "name": "python",
   "nbconvert_exporter": "python",
   "pygments_lexer": "ipython3",
   "version": "3.8.2"
  }
 },
 "nbformat": 4,
 "nbformat_minor": 5
}
