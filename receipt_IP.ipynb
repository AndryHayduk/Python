{
 "cells": [
  {
   "cell_type": "code",
   "execution_count": 2,
   "id": "experimental-biography",
   "metadata": {},
   "outputs": [],
   "source": [
    "import socket\n",
    "from requests import get"
   ]
  },
  {
   "cell_type": "code",
   "execution_count": 3,
   "id": "bound-symposium",
   "metadata": {},
   "outputs": [],
   "source": [
    "hostname = socket.gethostname() #Визначаємо імя приладу в мережі"
   ]
  },
  {
   "cell_type": "code",
   "execution_count": 4,
   "id": "grateful-pledge",
   "metadata": {},
   "outputs": [],
   "source": [
    "local_ip = socket.gethostbyname(hostname) #Визначаємо локальний(внутрішній) IP"
   ]
  },
  {
   "cell_type": "code",
   "execution_count": 6,
   "id": "dying-south",
   "metadata": {},
   "outputs": [],
   "source": [
    "public_ip = get('http://api.ipify.org').text #Визначаємо глобалтний(публічний) IP"
   ]
  },
  {
   "cell_type": "code",
   "execution_count": 7,
   "id": "amateur-stock",
   "metadata": {},
   "outputs": [
    {
     "name": "stdout",
     "output_type": "stream",
     "text": [
      "Хост: DESKTOP-EH7MUC5\n",
      "Локальный IP: 192.168.0.104\n",
      "Публичный IP: 5.58.62.218\n"
     ]
    }
   ],
   "source": [
    "print(f'Хост: {hostname}')\n",
    "print(f'Локальный IP: {local_ip}')\n",
    "print(f'Публичный IP: {public_ip}')"
   ]
  },
  {
   "cell_type": "code",
   "execution_count": null,
   "id": "after-synthetic",
   "metadata": {},
   "outputs": [],
   "source": []
  }
 ],
 "metadata": {
  "kernelspec": {
   "display_name": "Python 3",
   "language": "python",
   "name": "python3"
  },
  "language_info": {
   "codemirror_mode": {
    "name": "ipython",
    "version": 3
   },
   "file_extension": ".py",
   "mimetype": "text/x-python",
   "name": "python",
   "nbconvert_exporter": "python",
   "pygments_lexer": "ipython3",
   "version": "3.8.2"
  }
 },
 "nbformat": 4,
 "nbformat_minor": 5
}
